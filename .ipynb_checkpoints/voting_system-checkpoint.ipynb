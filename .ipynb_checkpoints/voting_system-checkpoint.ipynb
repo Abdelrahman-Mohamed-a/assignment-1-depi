{
 "cells": [
  {
   "cell_type": "code",
   "execution_count": 5,
   "id": "5bcf3d78-018b-4469-9cd4-22e7e01f6e93",
   "metadata": {},
   "outputs": [
    {
     "name": "stdout",
     "output_type": "stream",
     "text": [
      "['Baraa', 'Sama', 'Saif']\n",
      "Candidate (ssss) is not on the list\n",
      "Number of votes for (Baraa) are: 3\n",
      "Number of votes for (Sama) are: 2\n",
      "No such candidate!\n",
      "The winner is Baraa with 3 \n"
     ]
    }
   ],
   "source": [
    "class voting_system:\n",
    "    def __init__(self):\n",
    "        self.candidates = []\n",
    "        self.votes_count = []\n",
    "    def add_canditate(self,name):\n",
    "        if self.candidates.count(name):\n",
    "            return\n",
    "        self.candidates.append(name)\n",
    "        self.votes_count.append(0)\n",
    "    def vote_for_candidate(self,name):\n",
    "        if not self.candidates.count(name):\n",
    "            print(f\"Candidate ({name}) is not on the list\")\n",
    "            return\n",
    "        index = self.candidates.index(name)\n",
    "        self.votes_count[index]+=1\n",
    "    def get_result_of_candidate(self,name):\n",
    "        if not self.candidates.count(name):\n",
    "            print(\"No such candidate!\")\n",
    "            return\n",
    "        index = self.candidates.index(name)\n",
    "        print(f\"Number of votes for ({name}) are: {self.votes_count[index]}\")\n",
    "\n",
    "    def show_candidates(self):\n",
    "        print(self.candidates)\n",
    "    def display_winner(self):\n",
    "        if not len(self.candidates):\n",
    "            print(\"No Candidates\")\n",
    "        winner_index = 0\n",
    "        for i in range(len(self.candidates)):\n",
    "            if self.votes_count[winner_index] < self.votes_count[i]:\n",
    "                winner_index = i\n",
    "        print(f\"The winner is {self.candidates[winner_index]} with {self.votes_count[winner_index]} \")\n",
    "voting = voting_system()\n",
    "voting.add_canditate('Baraa')\n",
    "voting.add_canditate('Sama')\n",
    "voting.add_canditate('Saif')\n",
    "\n",
    "voting.show_candidates()\n",
    "\n",
    "voting.vote_for_candidate('Baraa')\n",
    "voting.vote_for_candidate('Baraa')\n",
    "voting.vote_for_candidate('Baraa')\n",
    "voting.vote_for_candidate('Sama')\n",
    "voting.vote_for_candidate('Sama')\n",
    "\n",
    "voting.vote_for_candidate('ssss')\n",
    "\n",
    "voting.get_result_of_candidate('Baraa')\n",
    "voting.get_result_of_candidate('Sama')\n",
    "voting.get_result_of_candidate('ssss')\n",
    "\n",
    "voting.display_winner()\n",
    "\n",
    "    "
   ]
  }
 ],
 "metadata": {
  "kernelspec": {
   "display_name": "Python 3 (ipykernel)",
   "language": "python",
   "name": "python3"
  },
  "language_info": {
   "codemirror_mode": {
    "name": "ipython",
    "version": 3
   },
   "file_extension": ".py",
   "mimetype": "text/x-python",
   "name": "python",
   "nbconvert_exporter": "python",
   "pygments_lexer": "ipython3",
   "version": "3.9.20"
  }
 },
 "nbformat": 4,
 "nbformat_minor": 5
}
