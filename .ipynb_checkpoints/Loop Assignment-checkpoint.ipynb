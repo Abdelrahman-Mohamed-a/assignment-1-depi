{
 "cells": [
  {
   "cell_type": "markdown",
   "id": "1f7a7136-2b6f-44ab-8446-2fb9cd86fd48",
   "metadata": {
    "id": "1f7a7136-2b6f-44ab-8446-2fb9cd86fd48"
   },
   "source": [
    "### Exercises ➞ <span class='label label-default'>Level 3</span>\n",
    "##### To access countries_details_data.py file\n",
    "##### > in first line in code write:\n",
    "##### > from countries import countries\n",
    "##### > from countries_details_dat import countries_data\n",
    "\n",
    "1. Go to the data folder and use the **[countries.py]()** file. Loop through the countries and extract all the countries containing the word **`land`**.\n",
    "2. Go to the data folder and use the **[countries_details_data.py]()** file.\n",
    "   1. What are the total number of languages in the data \\\\ 112\n",
    "   2. Find the ten most spoken languages from the data \\\\ English , French , Arabic\n",
    "   3. Find the 10 most populated countries in the world \\\\ China, India, US\n",
    "  \n",
    "3. Print the following pattern using loops (bones)\n",
    "\n",
    "```py\n",
    "   0 x 0 = 0\n",
    "   1 x 1 = 1\n",
    "   2 x 2 = 4\n",
    "   3 x 3 = 9\n",
    "   4 x 4 = 16\n",
    "   5 x 5 = 25\n",
    "   6 x 6 = 36\n",
    "   7 x 7 = 49\n",
    "   8 x 8 = 64\n",
    "   9 x 9 = 81\n",
    "   10 x 10 = 100\n",
    "```"
   ]
  },
  {
   "cell_type": "code",
   "execution_count": 4,
   "id": "kIbUljnf2Bhm",
   "metadata": {
    "id": "kIbUljnf2Bhm"
   },
   "outputs": [],
   "source": []
  },
  {
   "cell_type": "code",
   "execution_count": null,
   "id": "gOJSc_-02Bj8",
   "metadata": {
    "id": "gOJSc_-02Bj8"
   },
   "outputs": [],
   "source": []
  },
  {
   "cell_type": "code",
   "execution_count": 5,
   "id": "cbf00435-8c62-405b-89e0-d5b7377781af",
   "metadata": {
    "id": "cbf00435-8c62-405b-89e0-d5b7377781af"
   },
   "outputs": [],
   "source": [
    "from countries import countries\n",
    "from countries_details_dat import countries_data"
   ]
  },
  {
   "cell_type": "code",
   "execution_count": 10,
   "id": "bc55b739-44bc-4b8c-bd61-42b5bb9b74e9",
   "metadata": {
    "id": "bc55b739-44bc-4b8c-bd61-42b5bb9b74e9",
    "outputId": "7458f5c3-9746-427a-ec9c-16ee4cae8936"
   },
   "outputs": [
    {
     "data": {
      "text/plain": [
       "['Finland',\n",
       " 'Iceland',\n",
       " 'Ireland',\n",
       " 'Marshall Islands',\n",
       " 'Netherlands',\n",
       " 'New Zealand',\n",
       " 'Poland',\n",
       " 'Solomon Islands',\n",
       " 'Swaziland',\n",
       " 'Switzerland',\n",
       " 'Thailand']"
      ]
     },
     "execution_count": 10,
     "metadata": {},
     "output_type": "execute_result"
    }
   ],
   "source": [
    "countries_containing_land = []\n",
    "for country in countries:\n",
    "    if(country.find(\"land\")!=-1):\n",
    "        countries_containing_land.append(country)\n",
    "\n",
    "countries_containing_land"
   ]
  },
  {
   "cell_type": "code",
   "execution_count": 43,
   "id": "6add33ca-29f2-4df9-bce1-e25880c3986c",
   "metadata": {
    "id": "6add33ca-29f2-4df9-bce1-e25880c3986c"
   },
   "outputs": [
    {
     "name": "stdout",
     "output_type": "stream",
     "text": [
      "the total number of languages in the data = 112\n",
      "the top three languages are ['English', 'French', 'Arabic']\n",
      "Find the 10 most populated countries in the world are ['China', 'India', 'United States of America', 'Indonesia', 'Brazil', 'Pakistan', 'Nigeria', 'Bangladesh', 'Russian Federation', 'Japan']\n"
     ]
    }
   ],
   "source": [
    "# What are the total number of languages in the data \\ 112\n",
    "languages = []\n",
    "languages_counts = []\n",
    "\n",
    "for country_data in countries_data:\n",
    "    for language in country_data['languages']:\n",
    "        if(not languages.count(language)):\n",
    "            languages.append(language)\n",
    "            languages_counts.append(1)\n",
    "        else:\n",
    "            index = languages.index(language)\n",
    "            languages_counts[index]+=1\n",
    "\n",
    "print(f\"the total number of languages in the data = {len(languages)}\")\n",
    "\n",
    "# Find the ten most spoken languages from the data \\ English , French , Arabic\n",
    "top_three_languages = []\n",
    "for j in range(3):\n",
    "    top_languages_index = 0\n",
    "    for i in range(1,len(languages_counts)):\n",
    "        if(languages_counts[i] > languages_counts[top_languages_index]):\n",
    "            top_languages_index = i\n",
    "    top_three_languages.append(languages[top_languages_index])\n",
    "    languages.pop(top_languages_index)\n",
    "    languages_counts.pop(top_languages_index)\n",
    "\n",
    "print(f\"the top three languages are {top_three_languages}\")\n",
    "\n",
    "# Find the 10 most populated countries in the world \\ China, India, US\n",
    "sorted_data = sorted(countries_data, key=lambda x: x['population'], reverse=True)\n",
    "top_ten_populated = [d[\"name\"] for d in sorted_data]\n",
    "print(f\"Find the 10 most populated countries in the world are {top_ten_populated[:10]}\")"
   ]
  },
  {
   "cell_type": "code",
   "execution_count": 36,
   "id": "9281480b-c223-4ffb-88de-df36092c9fa6",
   "metadata": {},
   "outputs": [
    {
     "name": "stdout",
     "output_type": "stream",
     "text": [
      " 0 x 0 = 0\n",
      " 1 x 1 = 1\n",
      " 2 x 2 = 4\n",
      " 3 x 3 = 9\n",
      " 4 x 4 = 16\n",
      " 5 x 5 = 25\n",
      " 6 x 6 = 36\n",
      " 7 x 7 = 49\n",
      " 8 x 8 = 64\n",
      " 9 x 9 = 81\n",
      " 10 x 10 = 100\n"
     ]
    }
   ],
   "source": [
    "for i in range(11):\n",
    "    print(f\" {i } x {i} = {i*i}\")"
   ]
  }
 ],
 "metadata": {
  "colab": {
   "provenance": []
  },
  "kernelspec": {
   "display_name": "Python 3 (ipykernel)",
   "language": "python",
   "name": "python3"
  },
  "language_info": {
   "codemirror_mode": {
    "name": "ipython",
    "version": 3
   },
   "file_extension": ".py",
   "mimetype": "text/x-python",
   "name": "python",
   "nbconvert_exporter": "python",
   "pygments_lexer": "ipython3",
   "version": "3.9.20"
  }
 },
 "nbformat": 4,
 "nbformat_minor": 5
}
